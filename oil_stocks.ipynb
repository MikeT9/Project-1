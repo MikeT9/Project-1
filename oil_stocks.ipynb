{
 "cells": [
  {
   "cell_type": "code",
   "execution_count": 59,
   "metadata": {},
   "outputs": [
    {
     "ename": "TypeError",
     "evalue": "unhashable type: 'list'",
     "output_type": "error",
     "traceback": [
      "\u001b[0;31m---------------------------------------------------------------------------\u001b[0m",
      "\u001b[0;31mTypeError\u001b[0m                                 Traceback (most recent call last)",
      "\u001b[0;32m<ipython-input-59-a3f4e44e18cb>\u001b[0m in \u001b[0;36m<module>\u001b[0;34m\u001b[0m\n\u001b[1;32m      7\u001b[0m \u001b[0murl\u001b[0m \u001b[0;34m=\u001b[0m \u001b[0;34m\"https://apidojo-yahoo-finance-v1.p.rapidapi.com/stock/v3/get-historical-data\"\u001b[0m\u001b[0;34m\u001b[0m\u001b[0;34m\u001b[0m\u001b[0m\n\u001b[1;32m      8\u001b[0m \u001b[0mstocks\u001b[0m \u001b[0;34m=\u001b[0m \u001b[0;34m[\u001b[0m\u001b[0;34m'CVX'\u001b[0m\u001b[0;34m,\u001b[0m \u001b[0;34m'OXY'\u001b[0m\u001b[0;34m,\u001b[0m \u001b[0;34m'BP'\u001b[0m\u001b[0;34m,\u001b[0m \u001b[0;34m'XOM'\u001b[0m\u001b[0;34m,\u001b[0m \u001b[0;34m'EOG'\u001b[0m\u001b[0;34m,\u001b[0m \u001b[0;34m'TOT'\u001b[0m\u001b[0;34m,\u001b[0m \u001b[0;34m'DVN'\u001b[0m\u001b[0;34m,\u001b[0m \u001b[0;34m'RDS-B'\u001b[0m\u001b[0;34m,\u001b[0m \u001b[0;34m'EQNR'\u001b[0m\u001b[0;34m,\u001b[0m \u001b[0;34m'COP'\u001b[0m\u001b[0;34m,\u001b[0m \u001b[0;34m'CL=R'\u001b[0m\u001b[0;34m]\u001b[0m\u001b[0;34m\u001b[0m\u001b[0;34m\u001b[0m\u001b[0m\n\u001b[0;32m----> 9\u001b[0;31m \u001b[0mquerystring\u001b[0m \u001b[0;34m=\u001b[0m \u001b[0;34m{\u001b[0m\u001b[0;34m\"symbol\"\u001b[0m\u001b[0;34m:\u001b[0m\u001b[0;34m{\u001b[0m\u001b[0mstocks\u001b[0m\u001b[0;34m}\u001b[0m\u001b[0;34m,\u001b[0m\u001b[0;34m\"region\"\u001b[0m\u001b[0;34m:\u001b[0m\u001b[0;34m\"US\"\u001b[0m\u001b[0;34m}\u001b[0m\u001b[0;34m\u001b[0m\u001b[0;34m\u001b[0m\u001b[0m\n\u001b[0m\u001b[1;32m     10\u001b[0m headers = {\n\u001b[1;32m     11\u001b[0m     \u001b[0;34m'x-rapidapi-key'\u001b[0m\u001b[0;34m:\u001b[0m \u001b[0;34m\"6e338c8e02msh28315446594b375p14e8c4jsn535c757d0a5f\"\u001b[0m\u001b[0;34m,\u001b[0m\u001b[0;34m\u001b[0m\u001b[0;34m\u001b[0m\u001b[0m\n",
      "\u001b[0;31mTypeError\u001b[0m: unhashable type: 'list'"
     ]
    }
   ],
   "source": [
    "# Dependencies\n",
    "import requests\n",
    "import pprint\n",
    "import datetime\n",
    "import pandas as pd\n",
    "\n",
    "url = \"https://apidojo-yahoo-finance-v1.p.rapidapi.com/stock/v3/get-historical-data\"\n",
    "stocks = ['CVX', 'OXY', 'BP', 'XOM', 'EOG', 'TOT', 'DVN', 'RDS-B', 'EQNR', 'COP', 'CL=R']\n",
    "querystring = {\"symbol\":{stocks},\"region\":\"US\"}\n",
    "headers = {\n",
    "    'x-rapidapi-key': \"6e338c8e02msh28315446594b375p14e8c4jsn535c757d0a5f\",\n",
    "    'x-rapidapi-host': \"apidojo-yahoo-finance-v1.p.rapidapi.com\"\n",
    "    }\n",
    "response = requests.get(url, headers=headers, params=querystring).json()\n",
    "pprint.pprint(response['prices'][0])\n",
    "\n",
    "timestamp = datetime.datetime.fromtimestamp(response['prices'][0]['date'])\n",
    "print(timestamp.strftime('%Y-%m-%d %H:%M:%S'))"
   ]
  },
  {
   "cell_type": "code",
   "execution_count": 60,
   "metadata": {},
   "outputs": [
    {
     "ename": "KeyError",
     "evalue": "'open'",
     "output_type": "error",
     "traceback": [
      "\u001b[0;31m---------------------------------------------------------------------------\u001b[0m",
      "\u001b[0;31mKeyError\u001b[0m                                  Traceback (most recent call last)",
      "\u001b[0;32m<ipython-input-60-b8486b4e2dad>\u001b[0m in \u001b[0;36m<module>\u001b[0;34m\u001b[0m\n\u001b[1;32m     15\u001b[0m \u001b[0;34m\u001b[0m\u001b[0m\n\u001b[1;32m     16\u001b[0m         \u001b[0mdate\u001b[0m\u001b[0;34m.\u001b[0m\u001b[0mappend\u001b[0m\u001b[0;34m(\u001b[0m\u001b[0mdatetime\u001b[0m\u001b[0;34m.\u001b[0m\u001b[0mdatetime\u001b[0m\u001b[0;34m.\u001b[0m\u001b[0mfromtimestamp\u001b[0m\u001b[0;34m(\u001b[0m\u001b[0mresponse\u001b[0m\u001b[0;34m[\u001b[0m\u001b[0;34m'prices'\u001b[0m\u001b[0;34m]\u001b[0m\u001b[0;34m[\u001b[0m\u001b[0mi\u001b[0m\u001b[0;34m]\u001b[0m\u001b[0;34m[\u001b[0m\u001b[0;34m'date'\u001b[0m\u001b[0;34m]\u001b[0m\u001b[0;34m)\u001b[0m\u001b[0;34m.\u001b[0m\u001b[0mstrftime\u001b[0m\u001b[0;34m(\u001b[0m\u001b[0;34m'%Y-%m-%d %H:%M:%S'\u001b[0m\u001b[0;34m)\u001b[0m\u001b[0;34m)\u001b[0m\u001b[0;34m\u001b[0m\u001b[0;34m\u001b[0m\u001b[0m\n\u001b[0;32m---> 17\u001b[0;31m         \u001b[0mopenl\u001b[0m\u001b[0;34m.\u001b[0m\u001b[0mappend\u001b[0m\u001b[0;34m(\u001b[0m\u001b[0mresponse\u001b[0m\u001b[0;34m[\u001b[0m\u001b[0;34m'prices'\u001b[0m\u001b[0;34m]\u001b[0m\u001b[0;34m[\u001b[0m\u001b[0mi\u001b[0m\u001b[0;34m]\u001b[0m\u001b[0;34m[\u001b[0m\u001b[0;34m'open'\u001b[0m\u001b[0;34m]\u001b[0m\u001b[0;34m)\u001b[0m\u001b[0;34m\u001b[0m\u001b[0;34m\u001b[0m\u001b[0m\n\u001b[0m\u001b[1;32m     18\u001b[0m         \u001b[0mclose\u001b[0m\u001b[0;34m.\u001b[0m\u001b[0mappend\u001b[0m\u001b[0;34m(\u001b[0m\u001b[0mresponse\u001b[0m\u001b[0;34m[\u001b[0m\u001b[0;34m'prices'\u001b[0m\u001b[0;34m]\u001b[0m\u001b[0;34m[\u001b[0m\u001b[0mi\u001b[0m\u001b[0;34m]\u001b[0m\u001b[0;34m[\u001b[0m\u001b[0;34m'close'\u001b[0m\u001b[0;34m]\u001b[0m\u001b[0;34m)\u001b[0m\u001b[0;34m\u001b[0m\u001b[0;34m\u001b[0m\u001b[0m\n\u001b[1;32m     19\u001b[0m         \u001b[0madjclose\u001b[0m\u001b[0;34m.\u001b[0m\u001b[0mappend\u001b[0m\u001b[0;34m(\u001b[0m\u001b[0mresponse\u001b[0m\u001b[0;34m[\u001b[0m\u001b[0;34m'prices'\u001b[0m\u001b[0;34m]\u001b[0m\u001b[0;34m[\u001b[0m\u001b[0mi\u001b[0m\u001b[0;34m]\u001b[0m\u001b[0;34m[\u001b[0m\u001b[0;34m'adjclose'\u001b[0m\u001b[0;34m]\u001b[0m\u001b[0;34m)\u001b[0m\u001b[0;34m\u001b[0m\u001b[0;34m\u001b[0m\u001b[0m\n",
      "\u001b[0;31mKeyError\u001b[0m: 'open'"
     ]
    }
   ],
   "source": [
    "stocks = ['CVX', 'OXY', 'BP', 'XOM', 'EOG', 'TOT', 'DVN', 'RDS-B', 'EQNR', 'COP', 'CL=R']\n",
    "date = []\n",
    "openl = []\n",
    "close = []\n",
    "adjclose = []\n",
    "high = []\n",
    "low = []\n",
    "ticker = []\n",
    "\n",
    "\n",
    "for value in stocks:\n",
    "    querystring = {\"symbol\":value,\"region\":\"US\"}\n",
    "    response = requests.get(url, headers=headers, params=querystring).json()\n",
    "    \n",
    "    for i in range(len(response['prices'])):\n",
    "    \n",
    "        date.append(datetime.datetime.fromtimestamp(response['prices'][i]['date']).strftime('%Y-%m-%d %H:%M:%S'))\n",
    "        openl.append(response['prices'][i]['open'])\n",
    "        close.append(response['prices'][i]['close'])\n",
    "        adjclose.append(response['prices'][i]['adjclose'])\n",
    "        high.append(response['prices'][i]['high'])\n",
    "        low.append(response['prices'][i]['low'])\n",
    "        ticker.append(value)\n",
    "oil_df = pd.DataFrame({'ticker': ticker,\n",
    "                       'date': date,\n",
    "                       'open': openl,\n",
    "                       'close': close,\n",
    "                       'adjclose': adjclose,\n",
    "                       'high': high,\n",
    "                       'low': low,})\n",
    "oil_df"
   ]
  },
  {
   "cell_type": "code",
   "execution_count": null,
   "metadata": {},
   "outputs": [],
   "source": []
  },
  {
   "cell_type": "code",
   "execution_count": null,
   "metadata": {},
   "outputs": [],
   "source": []
  }
 ],
 "metadata": {
  "kernelspec": {
   "display_name": "Python 3",
   "language": "python",
   "name": "python3"
  },
  "language_info": {
   "codemirror_mode": {
    "name": "ipython",
    "version": 3
   },
   "file_extension": ".py",
   "mimetype": "text/x-python",
   "name": "python",
   "nbconvert_exporter": "python",
   "pygments_lexer": "ipython3",
   "version": "3.8.5"
  }
 },
 "nbformat": 4,
 "nbformat_minor": 4
}
