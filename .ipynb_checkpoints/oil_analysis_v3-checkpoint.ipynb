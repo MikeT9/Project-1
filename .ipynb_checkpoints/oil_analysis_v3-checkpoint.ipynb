{
 "cells": [
  {
   "cell_type": "code",
   "execution_count": 1,
   "metadata": {},
   "outputs": [],
   "source": [
    "# !pip install yfinance"
   ]
  },
  {
   "cell_type": "code",
   "execution_count": 2,
   "metadata": {},
   "outputs": [],
   "source": [
    "import requests\n",
    "import pprint\n",
    "import pandas as pd\n",
    "import yfinance as yf\n",
    "import datetime\n",
    "import matplotlib.pyplot as plt\n",
    "\n",
    "#stocks = ['CVX', 'OXY', 'BP', 'XOM', 'EOG', 'TOT', 'DVN', 'RDS-B', 'EQNR', 'COP', 'CL=F']\n",
    "#names = ['Chevron', 'Oxy', 'BP', 'ExxonMobil', 'EOG Resources', 'Total', 'Devon Energy', 'Shell', 'Equinor', 'ConocoPhillips', 'Oil Futures']\n",
    "stocks = ['CVX', 'OXY', 'BP', 'XOM', 'RDS-B', 'CL=F', '^GSPC', 'GC=F']\n",
    "names = ['Chevron', 'Oxy', 'BP', 'ExxonMobil', 'Shell', 'Oil Futures', 'S&P 500', 'Gold']"
   ]
  },
  {
   "cell_type": "code",
   "execution_count": 3,
   "metadata": {},
   "outputs": [],
   "source": [
    "def data_retrieve(tickers, names, syear, smonth, sday, eyear, emonth, eday):\n",
    "    start = datetime.datetime(syear, smonth, sday) # Select the start date (yyyy,m,d)\n",
    "    end = datetime.datetime(eyear, emonth, eday) # Select the end date (yyyy,m,d)\n",
    "    data = yf.download(tickers, start=start, end=end)\n",
    "    data_fix = data.reset_index()\n",
    "    data_fix.insert(0,'Name', names)\n",
    "    data_fix.insert(1,'Ticker', tickers)\n",
    "    return data_fix"
   ]
  },
  {
   "cell_type": "code",
   "execution_count": 4,
   "metadata": {},
   "outputs": [
    {
     "name": "stdout",
     "output_type": "stream",
     "text": [
      "[*********************100%***********************]  1 of 1 completed\n"
     ]
    }
   ],
   "source": [
    "master_df = data_retrieve(stocks[0], names[0], 2000, 1, 1, 2020, 12, 31)"
   ]
  },
  {
   "cell_type": "code",
   "execution_count": 5,
   "metadata": {},
   "outputs": [
    {
     "ename": "TypeError",
     "evalue": "data_retrieve() missing 6 required positional arguments: 'syear', 'smonth', 'sday', 'eyear', 'emonth', and 'eday'",
     "output_type": "error",
     "traceback": [
      "\u001b[1;31m---------------------------------------------------------------------------\u001b[0m",
      "\u001b[1;31mTypeError\u001b[0m                                 Traceback (most recent call last)",
      "\u001b[1;32m<ipython-input-5-cd442aa50038>\u001b[0m in \u001b[0;36m<module>\u001b[1;34m\u001b[0m\n\u001b[0;32m      4\u001b[0m \u001b[0mnames\u001b[0m \u001b[1;33m=\u001b[0m \u001b[1;33m[\u001b[0m\u001b[1;34m'Oxy'\u001b[0m\u001b[1;33m,\u001b[0m \u001b[1;34m'BP'\u001b[0m\u001b[1;33m,\u001b[0m \u001b[1;34m'ExxonMobil'\u001b[0m\u001b[1;33m,\u001b[0m \u001b[1;34m'Shell'\u001b[0m\u001b[1;33m,\u001b[0m \u001b[1;34m'Oil Futures'\u001b[0m\u001b[1;33m,\u001b[0m \u001b[1;34m'S&P 500'\u001b[0m\u001b[1;33m,\u001b[0m\u001b[1;34m'Gold'\u001b[0m\u001b[1;33m]\u001b[0m\u001b[1;33m\u001b[0m\u001b[1;33m\u001b[0m\u001b[0m\n\u001b[0;32m      5\u001b[0m \u001b[1;32mfor\u001b[0m \u001b[0mstock\u001b[0m\u001b[1;33m,\u001b[0m \u001b[0mname\u001b[0m \u001b[1;32min\u001b[0m \u001b[0mzip\u001b[0m\u001b[1;33m(\u001b[0m\u001b[0mstocks\u001b[0m\u001b[1;33m,\u001b[0m \u001b[0mnames\u001b[0m\u001b[1;33m)\u001b[0m\u001b[1;33m:\u001b[0m\u001b[1;33m\u001b[0m\u001b[1;33m\u001b[0m\u001b[0m\n\u001b[1;32m----> 6\u001b[1;33m     \u001b[0madd_data\u001b[0m \u001b[1;33m=\u001b[0m \u001b[0mdata_retrieve\u001b[0m\u001b[1;33m(\u001b[0m\u001b[0mstock\u001b[0m\u001b[1;33m,\u001b[0m \u001b[0mname\u001b[0m\u001b[1;33m)\u001b[0m\u001b[1;33m\u001b[0m\u001b[1;33m\u001b[0m\u001b[0m\n\u001b[0m\u001b[0;32m      7\u001b[0m     \u001b[0mmaster_df\u001b[0m \u001b[1;33m=\u001b[0m \u001b[0mmaster_df\u001b[0m\u001b[1;33m.\u001b[0m\u001b[0mappend\u001b[0m\u001b[1;33m(\u001b[0m\u001b[0madd_data\u001b[0m\u001b[1;33m,\u001b[0m \u001b[0mignore_index\u001b[0m\u001b[1;33m=\u001b[0m\u001b[1;32mTrue\u001b[0m\u001b[1;33m)\u001b[0m\u001b[1;33m\u001b[0m\u001b[1;33m\u001b[0m\u001b[0m\n",
      "\u001b[1;31mTypeError\u001b[0m: data_retrieve() missing 6 required positional arguments: 'syear', 'smonth', 'sday', 'eyear', 'emonth', and 'eday'"
     ]
    }
   ],
   "source": [
    "#stocks = ['OXY', 'BP', 'XOM', 'EOG', 'TOT', 'DVN', 'RDS-B', 'EQNR', 'COP', 'CL=F']\n",
    "#names = ['Oxy', 'BP', 'ExxonMobil', 'EOG Resources', 'Total', 'Devon Energy', 'Shell', 'Equinor', 'ConocoPhillips', 'Oil Futures']\n",
    "stocks = ['OXY', 'BP', 'XOM', 'RDS-B', 'CL=F', '^GSPC','GC=F']\n",
    "names = ['Oxy', 'BP', 'ExxonMobil', 'Shell', 'Oil Futures', 'S&P 500','Gold']\n",
    "for stock, name in zip(stocks, names):\n",
    "    add_data = data_retrieve(stock, name, 2000, 1, 1, 2020, 12, 31)\n",
    "    master_df = master_df.append(add_data, ignore_index=True)"
   ]
  },
  {
   "cell_type": "code",
   "execution_count": null,
   "metadata": {},
   "outputs": [],
   "source": [
    "master_df"
   ]
  },
  {
   "cell_type": "code",
   "execution_count": null,
   "metadata": {
    "jupyter": {
     "source_hidden": true
    }
   },
   "outputs": [],
   "source": [
    "#master_df = master_df[['Ticker', 'Date', 'Open', 'High', 'Low', 'Close', 'Adj Close', 'Volume']]\n",
    "#master_df"
   ]
  },
  {
   "cell_type": "code",
   "execution_count": null,
   "metadata": {
    "jupyter": {
     "source_hidden": true
    }
   },
   "outputs": [],
   "source": [
    "#stocks = ['OXY', 'BP', 'XOM', 'EOG', 'TOT', 'DVN', 'RDS-B', 'EQNR', 'COP', 'CL=F']\n",
    "# cvx_df = master_df[master_df['Ticker'] == 'CVX']\n",
    "# oxy_df = master_df[master_df['Ticker'] == 'OXY']\n",
    "# bp_df = master_df[master_df['Ticker'] == 'BP']\n",
    "# xom_df = master_df[master_df['Ticker'] == 'XOM']\n",
    "# shell_df = master_df[master_df['Ticker'] == 'RDS-B']\n",
    "# oil_df = master_df[master_df['Ticker'] == 'CL=F']"
   ]
  },
  {
   "cell_type": "code",
   "execution_count": null,
   "metadata": {
    "jupyter": {
     "source_hidden": true
    }
   },
   "outputs": [],
   "source": [
    "# cvx_merge_df = pd.merge(left =oil_df, right=cvx_df, how='left', left_on ='Date', right_on='Date')\n",
    "\n",
    "# cvx_ratio_open = []\n",
    "# for i,j in zip(cvx_merge_df['Open_y'],cvx_merge_df['Open_x']):\n",
    "#     cvx_ratio_open.append(i/j) \n",
    "\n",
    "# cvx_ratio_close = []\n",
    "# for i,j in zip(cvx_merge_df['Open_y'],cvx_merge_df['Open_x']):\n",
    "#     cvx_ratio_close.append(i/j) \n",
    "    \n",
    "# fig, axs = plt.subplots(4, figsize=(20,15))\n",
    "# fig.suptitle('Trendlines of Chevron')\n",
    "# axs[0].plot(cvx_merge_df['Date'], cvx_merge_df['Volume_y'])\n",
    "# axs[0].grid()\n",
    "# axs[0].set_ylabel('Volume')\n",
    "# axs[1].plot(cvx_merge_df['Date'], cvx_merge_df['Close_y'])\n",
    "# axs[1].grid()\n",
    "# axs[1].set_ylabel('Close Price')\n",
    "# axs[2].plot(cvx_merge_df['Date'], cvx_merge_df['Close_x'])\n",
    "# axs[2].grid()\n",
    "# axs[2].set_ylabel('Oil Price')\n",
    "# axs[3].plot(cvx_merge_df['Date'], cvx_ratio_close)\n",
    "# axs[3].grid()\n",
    "# axs[3].set_ylabel('Ratio with Oil')\n",
    "# axs[3].set_ylim([0,8])\n",
    "# plt.show()"
   ]
  },
  {
   "cell_type": "code",
   "execution_count": null,
   "metadata": {
    "jupyter": {
     "source_hidden": true
    }
   },
   "outputs": [],
   "source": [
    "# oxy_merge_df = pd.merge(left =oil_df, right=oxy_df, how='left', left_on ='Date', right_on='Date')\n",
    "\n",
    "# oxy_ratio_open = []\n",
    "# for i,j in zip(oxy_merge_df['Open_y'],oxy_merge_df['Open_x']):\n",
    "#     oxy_ratio_open.append(i/j) \n",
    "\n",
    "# oxy_ratio_close = []\n",
    "# for i,j in zip(oxy_merge_df['Open_y'],oxy_merge_df['Open_x']):\n",
    "#     oxy_ratio_close.append(i/j) \n",
    "    \n",
    "# fig, axs = plt.subplots(4, figsize=(20,15))\n",
    "# fig.suptitle('Trendlines of Occidental')\n",
    "# axs[0].plot(oxy_merge_df['Date'], oxy_merge_df['Volume_y'])\n",
    "# axs[0].grid()\n",
    "# axs[0].set_ylabel('Volume')\n",
    "# axs[1].plot(oxy_merge_df['Date'], oxy_merge_df['Close_y'])\n",
    "# axs[1].grid()\n",
    "# axs[1].set_ylabel('Close Price')\n",
    "# axs[2].plot(oxy_merge_df['Date'], oxy_merge_df['Close_x'])\n",
    "# axs[2].grid()\n",
    "# axs[2].set_ylabel('Oil Price')\n",
    "# axs[3].plot(oxy_merge_df['Date'], oxy_ratio_close)\n",
    "# axs[3].grid()\n",
    "# axs[3].set_ylabel('Ratio with Oil')\n",
    "# axs[3].set_ylim([0,3])\n",
    "# plt.show()"
   ]
  },
  {
   "cell_type": "code",
   "execution_count": null,
   "metadata": {
    "jupyter": {
     "source_hidden": true
    }
   },
   "outputs": [],
   "source": [
    "# bp_merge_df = pd.merge(left =oil_df, right=bp_df, how='left', left_on ='Date', right_on='Date')\n",
    "\n",
    "# bp_ratio_open = []\n",
    "# for i,j in zip(bp_merge_df['Open_y'],bp_merge_df['Open_x']):\n",
    "#     bp_ratio_open.append(i/j) \n",
    "\n",
    "# bp_ratio_close = []\n",
    "# for i,j in zip(bp_merge_df['Open_y'],bp_merge_df['Open_x']):\n",
    "#     bp_ratio_close.append(i/j) \n",
    "    \n",
    "# fig, axs = plt.subplots(4, figsize=(20,15))\n",
    "# fig.suptitle('Trendlines of BP')\n",
    "# axs[0].plot(bp_merge_df['Date'], bp_merge_df['Volume_y'])\n",
    "# axs[0].grid()\n",
    "# axs[0].set_ylabel('Volume')\n",
    "# axs[1].plot(bp_merge_df['Date'], bp_merge_df['Close_y'])\n",
    "# axs[1].grid()\n",
    "# axs[1].set_ylabel('Close Price')\n",
    "# axs[2].plot(bp_merge_df['Date'], bp_merge_df['Close_x'])\n",
    "# axs[2].grid()\n",
    "# axs[2].set_ylabel('Oil Price')\n",
    "# axs[3].plot(bp_merge_df['Date'], bp_ratio_close)\n",
    "# axs[3].grid()\n",
    "# axs[3].set_ylabel('Ratio with Oil')\n",
    "# axs[3].set_ylim([0,3])\n",
    "# plt.show()"
   ]
  },
  {
   "cell_type": "code",
   "execution_count": null,
   "metadata": {
    "jupyter": {
     "source_hidden": true
    }
   },
   "outputs": [],
   "source": [
    "# xom_merge_df = pd.merge(left =oil_df, right=xom_df, how='left', left_on ='Date', right_on='Date')\n",
    "\n",
    "# xom_ratio_open = []\n",
    "# for i,j in zip(xom_merge_df['Open_y'],xom_merge_df['Open_x']):\n",
    "#     xom_ratio_open.append(i/j) \n",
    "\n",
    "# xom_ratio_close = []\n",
    "# for i,j in zip(xom_merge_df['Open_y'],xom_merge_df['Open_x']):\n",
    "#     xom_ratio_close.append(i/j) \n",
    "    \n",
    "# fig, axs = plt.subplots(4, figsize=(20,15))\n",
    "# fig.suptitle('Trendlines of Exxon')\n",
    "# axs[0].plot(xom_merge_df['Date'], xom_merge_df['Volume_y'])\n",
    "# axs[0].grid()\n",
    "# axs[0].set_ylabel('Volume')\n",
    "# axs[1].plot(xom_merge_df['Date'], xom_merge_df['Close_y'])\n",
    "# axs[1].grid()\n",
    "# axs[1].set_ylabel('Close Price')\n",
    "# axs[2].plot(xom_merge_df['Date'], xom_merge_df['Close_x'])\n",
    "# axs[2].grid()\n",
    "# axs[2].set_ylabel('Oil Price')\n",
    "# axs[3].plot(xom_merge_df['Date'], xom_ratio_close)\n",
    "# axs[3].grid()\n",
    "# axs[3].set_ylabel('Ratio with Oil')\n",
    "# axs[3].set_ylim([0,4])\n",
    "# plt.show()"
   ]
  },
  {
   "cell_type": "code",
   "execution_count": null,
   "metadata": {
    "jupyter": {
     "source_hidden": true
    }
   },
   "outputs": [],
   "source": [
    "# shell_merge_df = pd.merge(left =oil_df, right=shell_df, how='left', left_on ='Date', right_on='Date')\n",
    "\n",
    "# shell_ratio_open = []\n",
    "# for i,j in zip(shell_merge_df['Open_y'],shell_merge_df['Open_x']):\n",
    "#     shell_ratio_open.append(i/j) \n",
    "\n",
    "# shell_ratio_close = []\n",
    "# for i,j in zip(shell_merge_df['Open_y'],shell_merge_df['Open_x']):\n",
    "#     shell_ratio_close.append(i/j) \n",
    "    \n",
    "# fig, axs = plt.subplots(4, figsize=(20,15))\n",
    "# fig.suptitle('Trendlines of Shell')\n",
    "# axs[0].plot(shell_merge_df['Date'], shell_merge_df['Volume_y'])\n",
    "# axs[0].grid()\n",
    "# axs[0].set_ylabel('Volume')\n",
    "# axs[1].plot(shell_merge_df['Date'], shell_merge_df['Close_y'])\n",
    "# axs[1].grid()\n",
    "# axs[1].set_ylabel('Close Price')\n",
    "# axs[2].plot(shell_merge_df['Date'], shell_merge_df['Close_x'])\n",
    "# axs[2].grid()\n",
    "# axs[2].set_ylabel('Oil Price')\n",
    "# axs[3].plot(shell_merge_df['Date'], shell_ratio_close)\n",
    "# axs[3].grid()\n",
    "# axs[3].set_ylabel('Ratio with Oil')\n",
    "# axs[3].set_ylim([0,3])\n",
    "# plt.show()"
   ]
  },
  {
   "cell_type": "code",
   "execution_count": null,
   "metadata": {},
   "outputs": [],
   "source": [
    "def graphs(x,y,saveas):\n",
    "    company_df = master_df[master_df['Ticker'] == x]\n",
    "    oil_df = master_df[master_df['Ticker'] == 'CL=F']\n",
    "    merge_df = pd.merge(left =oil_df, right=company_df, how='left', left_on ='Date', right_on='Date')\n",
    "\n",
    "    ratio_open = []\n",
    "    for i,j in zip(merge_df['Open_y'],merge_df['Open_x']):\n",
    "        ratio_open.append(i/j) \n",
    "\n",
    "    ratio_close = []\n",
    "    for i,j in zip(merge_df['Open_y'],merge_df['Open_x']):\n",
    "        ratio_close.append(i/j) \n",
    "    \n",
    "    fig, axs = plt.subplots(4, figsize=(20,15))\n",
    "    fig.suptitle(f'Trendlines of {y}', fontsize = 24)\n",
    "    axs[0].plot(merge_df['Date'], merge_df['Volume_y'])\n",
    "    axs[0].grid()\n",
    "    axs[0].set_ylabel('Volume', fontsize = 18)\n",
    "    axs[0].tick_params(axis='y', labelsize=14) \n",
    "    axs[0].tick_params(axis='x', labelsize=14) \n",
    "    axs[1].plot(merge_df['Date'], merge_df['Close_y'])\n",
    "    axs[1].grid()\n",
    "    axs[1].set_ylabel('Close Price', fontsize = 18)\n",
    "    axs[1].tick_params(axis='y', labelsize=14) \n",
    "    axs[1].tick_params(axis='x', labelsize=14)\n",
    "    axs[2].plot(merge_df['Date'], merge_df['Close_x'])\n",
    "    axs[2].grid()\n",
    "    axs[2].set_ylabel('Oil Price', fontsize = 18)\n",
    "    axs[2].tick_params(axis='y', labelsize=14) \n",
    "    axs[2].tick_params(axis='x', labelsize=14)\n",
    "    axs[3].plot(merge_df['Date'], ratio_close)\n",
    "    axs[3].grid()\n",
    "    axs[3].set_ylabel('Ratio with Oil', fontsize = 18)\n",
    "    axs[3].tick_params(axis='y', labelsize=14) \n",
    "    axs[3].tick_params(axis='x', labelsize=14)\n",
    "    axs[3].set_ylim(bottom = 0)\n",
    "    plt.savefig(saveas)\n",
    "    plt.show()"
   ]
  },
  {
   "cell_type": "code",
   "execution_count": null,
   "metadata": {},
   "outputs": [],
   "source": [
    "stocks = ['CVX', 'OXY', 'BP', 'XOM', 'RDS-B', '^GSPC', 'GC=F']\n",
    "names = ['Chevron', 'Oxy', 'BP', 'ExxonMobil', 'Shell', 'S&P 500', 'Gold']\n",
    "for (x,y) in zip(stocks,names):\n",
    "    graphs(x,y,f'outputs/{y}.png')\n"
   ]
  },
  {
   "cell_type": "code",
   "execution_count": null,
   "metadata": {},
   "outputs": [],
   "source": [
    "master_df = data_retrieve(stocks[0], names[0], 2008, 1, 1, 2009, 12, 31)"
   ]
  },
  {
   "cell_type": "code",
   "execution_count": null,
   "metadata": {},
   "outputs": [],
   "source": [
    "stocks = ['CVX', 'OXY', 'BP', 'XOM', 'RDS-B', '^GSPC', 'GC=F']\n",
    "names = ['Chevron', 'Oxy', 'BP', 'ExxonMobil', 'Shell', 'S&P 500', 'Gold']\n",
    "for (x,y) in zip(stocks,names):\n",
    "    graphs(x,y,f'outputs/{y}_08-09.png')"
   ]
  },
  {
   "cell_type": "code",
   "execution_count": null,
   "metadata": {},
   "outputs": [],
   "source": [
    "master_df = data_retrieve(stocks[0], names[0], 2014, 1, 1, 2016, 12, 31)"
   ]
  },
  {
   "cell_type": "code",
   "execution_count": null,
   "metadata": {},
   "outputs": [],
   "source": [
    "stocks = ['CVX', 'OXY', 'BP', 'XOM', 'RDS-B', '^GSPC', 'GC=F']\n",
    "names = ['Chevron', 'Oxy', 'BP', 'ExxonMobil', 'Shell', 'S&P 500', 'Gold']\n",
    "for (x,y) in zip(stocks,names):\n",
    "    graphs(x,y,f'outputs/{y}_14-16.png')"
   ]
  },
  {
   "cell_type": "code",
   "execution_count": null,
   "metadata": {},
   "outputs": [],
   "source": [
    "master_df = data_retrieve(stocks[0], names[0], 2020, 1, 1, 2021, 3, 10)"
   ]
  },
  {
   "cell_type": "code",
   "execution_count": null,
   "metadata": {},
   "outputs": [],
   "source": [
    "stocks = ['CVX', 'OXY', 'BP', 'XOM', 'RDS-B', '^GSPC', 'GC=F']\n",
    "names = ['Chevron', 'Oxy', 'BP', 'ExxonMobil', 'Shell', 'S&P 500', 'Gold']\n",
    "for (x,y) in zip(stocks,names):\n",
    "    graphs(x,y,f'outputs/{y}_20-current.png')"
   ]
  }
 ],
 "metadata": {
  "kernelspec": {
   "display_name": "Python 3",
   "language": "python",
   "name": "python3"
  },
  "language_info": {
   "codemirror_mode": {
    "name": "ipython",
    "version": 3
   },
   "file_extension": ".py",
   "mimetype": "text/x-python",
   "name": "python",
   "nbconvert_exporter": "python",
   "pygments_lexer": "ipython3",
   "version": "3.8.5"
  }
 },
 "nbformat": 4,
 "nbformat_minor": 4
}
